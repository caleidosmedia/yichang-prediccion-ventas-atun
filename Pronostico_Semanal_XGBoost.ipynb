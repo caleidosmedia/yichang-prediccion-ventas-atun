{
 "cells": [
  {
   "cell_type": "markdown",
   "id": "62532742",
   "metadata": {},
   "source": [
    "# Pronóstico Semanal XGBoost — Comparativa Suavizado vs Original\n",
    "\n",
    "Este cuaderno compara el desempeño del modelo entre dos escenarios:\n",
    "\n",
    "1) **Original:** ventas tal cual (sin suavizado, con domingos incluidos)\n",
    "\n",
    "2) **Suavizado:** si `Canti UMB = 0` (no domingo), reemplazar por el **promedio de los últimos 4** valores previos del **mismo día de la semana**.\n",
    "\n",
    "Incluye:\n",
    "- EDA previo global (Spearman + Información Mutua)\n",
    "- EDA por bloque: **Avícola, Macro, Clima, Festividades** (top 5 + gráfico comparativo Spearman)\n",
    "- Modelado con XGBoost (mismos hiperparámetros) y comparativa de métricas\n",
    "- Importancias de variables (XGBoost)\n",
    "- Conclusión visual\n"
   ]
  },
  {
   "cell_type": "markdown",
   "id": "e28ed258",
   "metadata": {},
   "source": [
    "## 0) Configuración y librerías"
   ]
  },
  {
   "cell_type": "code",
   "execution_count": null,
   "id": "1b82a56f",
   "metadata": {},
   "outputs": [],
   "source": [
    "import pandas as pd, numpy as np, matplotlib.pyplot as plt\n",
    "from pathlib import Path\n",
    "from sklearn.metrics import mean_absolute_error, mean_squared_error\n",
    "from sklearn.feature_selection import mutual_info_regression\n",
    "from xgboost import XGBRegressor\n",
    "from math import sqrt\n",
    "\n",
    "BASE_PATH = \".\"\n",
    "FN_VENTAS = \"Consolidado AWS.xlsx\"\n",
    "FN_MACRO  = \"Macroeconomicas..xlsx\"\n",
    "FN_AVIC   = \"Avicola..xlsx\"\n",
    "FN_CLIMA  = \"Clima..xlsx\"\n",
    "FN_FEST   = \"Festividades..xlsx\"\n",
    "SHEET_VENTAS = \"Consolidado\"\n",
    "SHEET_FEST   = \"Eventos_Diarios\"\n",
    "\n",
    "TEST_SIZE_PCT = 0.2\n",
    "LAGS_TARGET   = [1,2,4,8]\n",
    "ROLL_WINDOWS  = [4,8]\n",
    "\n",
    "def fp(name): return str(Path(BASE_PATH) / name)\n",
    "\n",
    "plt.rcParams['figure.figsize'] = (10,5)\n",
    "plt.rcParams['axes.grid'] = True\n"
   ]
  },
  {
   "cell_type": "markdown",
   "id": "db597864",
   "metadata": {},
   "source": [
    "## 1) Carga de datos"
   ]
  },
  {
   "cell_type": "code",
   "execution_count": null,
   "id": "e4644d2f",
   "metadata": {},
   "outputs": [],
   "source": [
    "aws  = pd.read_excel(fp(FN_VENTAS), sheet_name=SHEET_VENTAS)\n",
    "macro = pd.read_excel(fp(FN_MACRO))\n",
    "avic  = pd.read_excel(fp(FN_AVIC))\n",
    "clima = pd.read_excel(fp(FN_CLIMA))\n",
    "fest  = pd.read_excel(fp(FN_FEST), sheet_name=SHEET_FEST)\n",
    "\n",
    "aws['Dia'] = pd.to_datetime(aws['Dia'])\n",
    "if 'Fecha' in avic.columns:  avic['Fecha'] = pd.to_datetime(avic['Fecha'])\n",
    "if 'fecha' in macro.columns: macro['fecha'] = pd.to_datetime(macro['fecha'])\n",
    "if 'Fecha' in clima.columns: clima['Fecha'] = pd.to_datetime(clima['Fecha'])\n",
    "fest['fecha'] = pd.to_datetime(fest['fecha'])\n",
    "\n",
    "aws['Canti UMB'] = aws['Canti UMB'].astype(float)\n",
    "print('Ventas shape:', aws.shape)\n"
   ]
  },
  {
   "cell_type": "markdown",
   "id": "b4a116de",
   "metadata": {},
   "source": [
    "## 2) Preprocesamiento dual (Original vs Suavizado)"
   ]
  },
  {
   "cell_type": "code",
   "execution_count": null,
   "id": "bac574b5",
   "metadata": {},
   "outputs": [],
   "source": [
    "aws_original = aws.copy()\n",
    "\n",
    "aws_suav = aws.copy()\n",
    "aws_suav['weekday'] = aws_suav['Dia'].dt.weekday\n",
    "aws_suav = aws_suav.sort_values('Dia').reset_index(drop=True)\n",
    "aws_suav['umb_nonzero'] = aws_suav['Canti UMB'].where(aws_suav['Canti UMB']>0, np.nan)\n",
    "avg_last4 = aws_suav.groupby('weekday', group_keys=False)['umb_nonzero']\\\n",
    "                    .apply(lambda s: s.rolling(window=4, min_periods=1).mean().shift(1))\n",
    "aws_suav['avg_last4_same_wd_prev'] = avg_last4\n",
    "mask_zero = (aws_suav['Canti UMB'] == 0)\n",
    "aws_suav.loc[mask_zero, 'Canti UMB'] = aws_suav.loc[mask_zero, 'avg_last4_same_wd_prev'].fillna(0.0).values\n",
    "aws_suav.drop(columns=['weekday','umb_nonzero','avg_last4_same_wd_prev'], inplace=True)\n",
    "print('Original:', aws_original.shape, '| Suavizado:', aws_suav.shape)\n"
   ]
  },
  {
   "cell_type": "markdown",
   "id": "0f999978",
   "metadata": {},
   "source": [
    "## 3) Agregación semanal y unión con exógenos"
   ]
  },
  {
   "cell_type": "code",
   "execution_count": null,
   "id": "5aed85b9",
   "metadata": {},
   "outputs": [],
   "source": [
    "def weekly_mean_numeric(df, date_col, prefix):\n",
    "    d = df.copy(); d[date_col] = pd.to_datetime(d[date_col])\n",
    "    num = d.select_dtypes(include='number')\n",
    "    out = (pd.concat([d[[date_col]], num], axis=1).set_index(date_col)\n",
    "           .resample('W').mean().add_prefix(prefix).reset_index())\n",
    "    return out\n",
    "\n",
    "def preparar_dataset(aws_df):\n",
    "    ventas_diarias = aws_df.groupby('Dia')['Canti UMB'].sum().sort_index()\n",
    "    ventas_sem = ventas_diarias.resample('W').sum().reset_index().rename(columns={'Dia':'Semana','Canti UMB':'ventas_sem'})\n",
    "    avic_sem  = weekly_mean_numeric(avic, 'Fecha', 'avic_')  if 'Fecha' in avic.columns else pd.DataFrame()\n",
    "    clima_sem = weekly_mean_numeric(clima,'Fecha','clima_')  if 'Fecha' in clima.columns else pd.DataFrame()\n",
    "    macro_sem = weekly_mean_numeric(macro,'fecha','macro_')  if 'fecha' in macro.columns else pd.DataFrame()\n",
    "    fest_sem = fest.groupby(pd.Grouper(key='fecha', freq='W')).agg('mean').reset_index()\n",
    "\n",
    "    df = ventas_sem.copy()\n",
    "    for block, key in [(avic_sem,'Fecha'), (clima_sem,'Fecha'), (macro_sem,'fecha'), (fest_sem,'fecha')]:\n",
    "        if not block.empty and key in block.columns:\n",
    "            df = df.merge(block, left_on='Semana', right_on=key, how='left').drop(columns=[key])\n",
    "    return df.sort_values('Semana').reset_index(drop=True)\n",
    "\n",
    "df_ori = preparar_dataset(aws_original)\n",
    "df_sua = preparar_dataset(aws_suav)\n",
    "print('Semanal original:', df_ori.shape, '| Semanal suavizado:', df_sua.shape)\n",
    "df_ori.head(3)\n"
   ]
  },
  {
   "cell_type": "markdown",
   "id": "4f018de2",
   "metadata": {},
   "source": [
    "## 4) EDA previo global (Spearman + Información Mutua)"
   ]
  },
  {
   "cell_type": "code",
   "execution_count": null,
   "id": "1cea3784",
   "metadata": {},
   "outputs": [],
   "source": [
    "def eda_exog(df, label='ventas_sem'):\n",
    "    num_df = df.select_dtypes(include='number').copy()\n",
    "    num_df = num_df.fillna(num_df.mean(numeric_only=True))\n",
    "    exog_cols = [c for c in num_df.columns if c != label]\n",
    "    spear = num_df[exog_cols + [label]].corr(method='spearman')[label].drop(label)\n",
    "    mi = pd.Series(mutual_info_regression(num_df[exog_cols], num_df[label], random_state=42), index=exog_cols)\n",
    "    resumen = pd.DataFrame({'Spearman':spear, 'Mutual_Info':mi})\n",
    "    resumen['|Spearman|'] = resumen['Spearman'].abs()\n",
    "    resumen['Rank'] = (resumen['|Spearman|'].rank(ascending=False) + resumen['Mutual_Info'].rank(ascending=False))/2\n",
    "    resumen = resumen.sort_values('Rank')\n",
    "    return resumen, spear, mi\n",
    "\n",
    "eda_ori, spear_ori, mi_ori = eda_exog(df_ori)\n",
    "eda_sua, spear_sua, mi_sua = eda_exog(df_sua)\n",
    "\n",
    "print('Top 10 exógenas (global) - Original'); display(eda_ori.head(10))\n",
    "print('Top 10 exógenas (global) - Suavizado'); display(eda_sua.head(10))\n",
    "\n",
    "top20 = eda_ori['|Spearman|'].sort_values(ascending=False).head(20).index.tolist()\n",
    "corrmat = df_ori[top20 + ['ventas_sem']].fillna(df_ori.mean(numeric_only=True)).corr(method='spearman').abs()\n",
    "plt.figure(figsize=(10,6))\n",
    "plt.imshow(corrmat.values, aspect='auto')\n",
    "plt.xticks(range(len(corrmat.columns)), corrmat.columns, rotation=90)\n",
    "plt.yticks(range(len(corrmat.index)), corrmat.index)\n",
    "plt.title('Heatmap Spearman (Top 20) - Dataset Original')\n",
    "plt.colorbar()\n",
    "plt.show()\n"
   ]
  },
  {
   "cell_type": "markdown",
   "id": "c56bc140",
   "metadata": {},
   "source": [
    "## 5) Análisis por bloque (Avícola, Macro, Clima, Festividades) — Top 5 + Comparativa Spearman"
   ]
  },
  {
   "cell_type": "code",
   "execution_count": null,
   "id": "8f60fb9e",
   "metadata": {},
   "outputs": [],
   "source": [
    "def top_block(resumen_df, prefix_list=None, contains_list=None, topk=5):\n",
    "    idx = resumen_df.index\n",
    "    mask = pd.Series(False, index=idx)\n",
    "    if prefix_list:\n",
    "        for p in prefix_list:\n",
    "            mask = mask | idx.str.startswith(p)\n",
    "    if contains_list:\n",
    "        for s in contains_list:\n",
    "            mask = mask | idx.str.contains(s)\n",
    "    sub = resumen_df.loc[mask].copy()\n",
    "    if sub.empty:\n",
    "        return sub\n",
    "    return sub.sort_values('Rank').head(topk)\n",
    "\n",
    "def bar_compare_spearman(names, spear_A, spear_B, title):\n",
    "    A = [spear_A.get(n, np.nan) for n in names]\n",
    "    B = [spear_B.get(n, np.nan) for n in names]\n",
    "    x = np.arange(len(names))\n",
    "    width = 0.35\n",
    "    plt.figure(figsize=(10,5))\n",
    "    plt.bar(x - width/2, A, width, label='Original')\n",
    "    plt.bar(x + width/2, B, width, label='Suavizado')\n",
    "    plt.xticks(x, names, rotation=45, ha='right')\n",
    "    plt.ylabel('Spearman')\n",
    "    plt.title(title)\n",
    "    plt.legend()\n",
    "    plt.tight_layout()\n",
    "    plt.show()\n"
   ]
  },
  {
   "cell_type": "markdown",
   "id": "35cc1256",
   "metadata": {},
   "source": [
    "### 5.1) 🐔 Avícola — Top 5 + Spearman (Original vs Suavizado)"
   ]
  },
  {
   "cell_type": "code",
   "execution_count": null,
   "id": "0914cb0f",
   "metadata": {},
   "outputs": [],
   "source": [
    "top_avic_ori = top_block(eda_ori, prefix_list=['avic_'], topk=5)\n",
    "top_avic_sua = top_block(eda_sua, prefix_list=['avic_'], topk=5)\n",
    "print('Top Avícola (Original)'); display(top_avic_ori)\n",
    "print('Top Avícola (Suavizado)'); display(top_avic_sua)\n",
    "names = top_avic_ori.index.tolist()\n",
    "if names:\n",
    "    bar_compare_spearman(names, spear_ori, spear_sua, 'Avícola: Spearman (Original vs Suavizado)')\n",
    "else:\n",
    "    print('No hay variables avícolas suficientes para graficar.')"
   ]
  },
  {
   "cell_type": "markdown",
   "id": "57581529",
   "metadata": {},
   "source": [
    "### 5.2) 🏦 Macro — Top 5 + Spearman (Original vs Suavizado)"
   ]
  },
  {
   "cell_type": "code",
   "execution_count": null,
   "id": "18f5ec38",
   "metadata": {},
   "outputs": [],
   "source": [
    "top_macro_ori = top_block(eda_ori, prefix_list=['macro_'], topk=5)\n",
    "top_macro_sua = top_block(eda_sua, prefix_list=['macro_'], topk=5)\n",
    "print('Top Macro (Original)'); display(top_macro_ori)\n",
    "print('Top Macro (Suavizado)'); display(top_macro_sua)\n",
    "names = top_macro_ori.index.tolist()\n",
    "if names:\n",
    "    bar_compare_spearman(names, spear_ori, spear_sua, 'Macro: Spearman (Original vs Suavizado)')\n",
    "else:\n",
    "    print('No hay variables macro suficientes para graficar.')"
   ]
  },
  {
   "cell_type": "markdown",
   "id": "221895ee",
   "metadata": {},
   "source": [
    "### 5.3) 🌦️ Clima — Top 5 + Spearman (Original vs Suavizado)"
   ]
  },
  {
   "cell_type": "code",
   "execution_count": null,
   "id": "599b9606",
   "metadata": {},
   "outputs": [],
   "source": [
    "top_clima_ori = top_block(eda_ori, prefix_list=['clima_'], topk=5)\n",
    "top_clima_sua = top_block(eda_sua, prefix_list=['clima_'], topk=5)\n",
    "print('Top Clima (Original)'); display(top_clima_ori)\n",
    "print('Top Clima (Suavizado)'); display(top_clima_sua)\n",
    "names = top_clima_ori.index.tolist()\n",
    "if names:\n",
    "    bar_compare_spearman(names, spear_ori, spear_sua, 'Clima: Spearman (Original vs Suavizado)')\n",
    "else:\n",
    "    print('No hay variables de clima suficientes para graficar.')"
   ]
  },
  {
   "cell_type": "markdown",
   "id": "5dccf06a",
   "metadata": {},
   "source": [
    "### 5.4) 🎉 Festividades — Top 5 + Spearman (Original vs Suavizado)"
   ]
  },
  {
   "cell_type": "code",
   "execution_count": null,
   "id": "686051bd",
   "metadata": {},
   "outputs": [],
   "source": [
    "top_fest_ori = top_block(eda_ori, prefix_list=['tipo_evento_'], contains_list=['hay_evento'], topk=5)\n",
    "top_fest_sua = top_block(eda_sua, prefix_list=['tipo_evento_'], contains_list=['hay_evento'], topk=5)\n",
    "print('Top Festividades (Original)'); display(top_fest_ori)\n",
    "print('Top Festividades (Suavizado)'); display(top_fest_sua)\n",
    "names = top_fest_ori.index.tolist()\n",
    "if names:\n",
    "    bar_compare_spearman(names, spear_ori, spear_sua, 'Festividades: Spearman (Original vs Suavizado)')\n",
    "else:\n",
    "    print('No hay variables de festividades suficientes para graficar.')"
   ]
  },
  {
   "cell_type": "markdown",
   "id": "8257a02f",
   "metadata": {},
   "source": [
    "## 6) Modelado XGBoost (ambos escenarios)"
   ]
  },
  {
   "cell_type": "code",
   "execution_count": null,
   "id": "06f369b1",
   "metadata": {},
   "outputs": [],
   "source": [
    "def add_features(df):\n",
    "    f = df.copy()\n",
    "    for L in LAGS_TARGET: f[f'ventas_sem_lag{L}'] = f['ventas_sem'].shift(L)\n",
    "    for w in ROLL_WINDOWS: f[f'ventas_sem_rm{w}'] = f['ventas_sem'].rolling(window=w, min_periods=1).mean()\n",
    "    exog = [c for c in f.columns if c not in ['Semana','ventas_sem'] and pd.api.types.is_numeric_dtype(f[c])]\n",
    "    for c in exog: f[f'{c}_lag1'] = f[c].shift(1)\n",
    "    return f.dropna().reset_index(drop=True)\n",
    "\n",
    "def fit_eval_xgb(df):\n",
    "    df_fe = add_features(df)\n",
    "    n = len(df_fe); split = int(n*(1-TEST_SIZE_PCT))\n",
    "    train, test = df_fe.iloc[:split], df_fe.iloc[split:]\n",
    "    X_train, y_train = train.drop(columns=['Semana','ventas_sem']), train['ventas_sem']\n",
    "    X_test, y_test = test.drop(columns=['Semana','ventas_sem']), test['ventas_sem']\n",
    "    y_pred_naive = test['ventas_sem_lag1']\n",
    "    mae_naive = mean_absolute_error(y_test, y_pred_naive)\n",
    "    rmse_naive = np.sqrt(mean_squared_error(y_test, y_pred_naive))\n",
    "    model = XGBRegressor(n_estimators=600, learning_rate=0.05, max_depth=4,\n",
    "                         subsample=0.85, colsample_bytree=0.85, reg_lambda=1.0, random_state=42)\n",
    "    model.fit(X_train, y_train)\n",
    "    y_pred = model.predict(X_test)\n",
    "    mae = mean_absolute_error(y_test, y_pred)\n",
    "    rmse = np.sqrt(mean_squared_error(y_test, y_pred))\n",
    "    mejora = (1 - mae/mae_naive)*100\n",
    "    importancias = pd.Series(model.feature_importances_, index=X_train.columns).sort_values(ascending=False)\n",
    "    return {'MAE_Naive':mae_naive,'RMSE_Naive':rmse_naive,'MAE_XGB':mae,'RMSE_XGB':rmse,'Mejora%':mejora,'Importancias':importancias}\n",
    "\n",
    "res_ori = fit_eval_xgb(df_ori)\n",
    "res_sua = fit_eval_xgb(df_sua)\n",
    "\n",
    "comp = pd.DataFrame({\n",
    "    'Escenario':['Original','Suavizado'],\n",
    "    'MAE_Naive':[res_ori['MAE_Naive'], res_sua['MAE_Naive']],\n",
    "    'MAE_XGB':[res_ori['MAE_XGB'], res_sua['MAE_XGB']],\n",
    "    'RMSE_XGB':[res_ori['RMSE_XGB'], res_sua['RMSE_XGB']],\n",
    "    'Mejora%':[res_ori['Mejora%'], res_sua['Mejora%']]\n",
    "})\n",
    "print('Comparativa de desempeño (XGBoost):')\n",
    "display(comp.style.format({'MAE_Naive':'{:.0f}', 'MAE_XGB':'{:.0f}', 'RMSE_XGB':'{:.0f}', 'Mejora%':'{:.1f}'}))\n",
    "\n",
    "plt.figure()\n",
    "plt.bar(comp['Escenario'], comp['MAE_XGB'])\n",
    "plt.title('MAE XGBoost (Original vs Suavizado)')\n",
    "plt.ylabel('MAE')\n",
    "plt.show()\n"
   ]
  },
  {
   "cell_type": "markdown",
   "id": "4ca34442",
   "metadata": {},
   "source": [
    "## 7) Importancias de variables (XGBoost)"
   ]
  },
  {
   "cell_type": "code",
   "execution_count": null,
   "id": "84c2c694",
   "metadata": {},
   "outputs": [],
   "source": [
    "fig, ax = plt.subplots(1,2, figsize=(14,5))\n",
    "res_ori['Importancias'].head(15).plot(kind='bar', ax=ax[0]); ax[0].set_title('Top 15 Importancias — Original'); ax[0].set_ylabel('Importancia')\n",
    "res_sua['Importancias'].head(15).plot(kind='bar', ax=ax[1]); ax[1].set_title('Top 15 Importancias — Suavizado'); ax[1].set_ylabel('Importancia')\n",
    "plt.tight_layout(); plt.show()\n"
   ]
  },
  {
   "cell_type": "markdown",
   "id": "fcd6b337",
   "metadata": {},
   "source": [
    "## 8) Conclusiones y variables exógenas recomendadas"
   ]
  },
  {
   "cell_type": "code",
   "execution_count": null,
   "id": "28b2494f",
   "metadata": {},
   "outputs": [],
   "source": [
    "mejor = 'Original' if res_ori['MAE_XGB'] < res_sua['MAE_XGB'] else 'Suavizado'\n",
    "print(f'Conclusión general: El escenario {mejor} muestra mejor desempeño global (menor MAE/RMSE).')\n",
    "\n",
    "print('\\nVariables exógenas recomendadas (consistentes en ambos escenarios):')\n",
    "top10_ori = set(eda_ori.head(10).index)\n",
    "top10_sua = set(eda_sua.head(10).index)\n",
    "consistentes = list(top10_ori.intersection(top10_sua))\n",
    "for v in sorted(consistentes):\n",
    "    print('-', v)\n",
    "\n",
    "print('\\nTop 5 Avícola (Original):')\n",
    "try:\n",
    "    for v in top_avic_ori.index: print('-', v)\n",
    "except NameError:\n",
    "    print('N/D')\n",
    "print('\\nTop 5 Macro (Original):')\n",
    "try:\n",
    "    for v in top_macro_ori.index: print('-', v)\n",
    "except NameError:\n",
    "    print('N/D')\n",
    "print('\\nTop 5 Clima (Original):')\n",
    "try:\n",
    "    for v in top_clima_ori.index: print('-', v)\n",
    "except NameError:\n",
    "    print('N/D')\n",
    "print('\\nTop 5 Festividades (Original):')\n",
    "try:\n",
    "    for v in top_fest_ori.index: print('-', v)\n",
    "except NameError:\n",
    "    print('N/D')\n"
   ]
  }
 ],
 "metadata": {},
 "nbformat": 4,
 "nbformat_minor": 5
}
